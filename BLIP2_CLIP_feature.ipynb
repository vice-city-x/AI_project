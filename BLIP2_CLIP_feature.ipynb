{
  "nbformat": 4,
  "nbformat_minor": 0,
  "metadata": {
    "colab": {
      "provenance": []
    },
    "kernelspec": {
      "name": "python3",
      "display_name": "Python 3"
    },
    "language_info": {
      "name": "python"
    },
    "widgets": {
      "application/vnd.jupyter.widget-state+json": {
        "e2659db97aa747448381248dc1ec9262": {
          "model_module": "@jupyter-widgets/controls",
          "model_name": "HBoxModel",
          "model_module_version": "1.5.0",
          "state": {
            "_dom_classes": [],
            "_model_module": "@jupyter-widgets/controls",
            "_model_module_version": "1.5.0",
            "_model_name": "HBoxModel",
            "_view_count": null,
            "_view_module": "@jupyter-widgets/controls",
            "_view_module_version": "1.5.0",
            "_view_name": "HBoxView",
            "box_style": "",
            "children": [
              "IPY_MODEL_5ef197e9d0084d7d8474a6af78918770",
              "IPY_MODEL_7f95d81fb79b41dd96a06a00ac3d4012",
              "IPY_MODEL_5e37f74d271f46279dabcf458d1fac46"
            ],
            "layout": "IPY_MODEL_c1db64aa9dd24a30aee2eb5a47f46c25"
          }
        },
        "5ef197e9d0084d7d8474a6af78918770": {
          "model_module": "@jupyter-widgets/controls",
          "model_name": "HTMLModel",
          "model_module_version": "1.5.0",
          "state": {
            "_dom_classes": [],
            "_model_module": "@jupyter-widgets/controls",
            "_model_module_version": "1.5.0",
            "_model_name": "HTMLModel",
            "_view_count": null,
            "_view_module": "@jupyter-widgets/controls",
            "_view_module_version": "1.5.0",
            "_view_name": "HTMLView",
            "description": "",
            "description_tooltip": null,
            "layout": "IPY_MODEL_765a4823f0b347bfa94c0e2fac255410",
            "placeholder": "​",
            "style": "IPY_MODEL_2ab2b0b64298430b9c948ddf0c8836cc",
            "value": "Loading checkpoint shards: 100%"
          }
        },
        "7f95d81fb79b41dd96a06a00ac3d4012": {
          "model_module": "@jupyter-widgets/controls",
          "model_name": "FloatProgressModel",
          "model_module_version": "1.5.0",
          "state": {
            "_dom_classes": [],
            "_model_module": "@jupyter-widgets/controls",
            "_model_module_version": "1.5.0",
            "_model_name": "FloatProgressModel",
            "_view_count": null,
            "_view_module": "@jupyter-widgets/controls",
            "_view_module_version": "1.5.0",
            "_view_name": "ProgressView",
            "bar_style": "success",
            "description": "",
            "description_tooltip": null,
            "layout": "IPY_MODEL_155044e7384e4886bb79819cd47bcabc",
            "max": 2,
            "min": 0,
            "orientation": "horizontal",
            "style": "IPY_MODEL_5f03f88993ee4f54b0bb2f088e6d1fda",
            "value": 2
          }
        },
        "5e37f74d271f46279dabcf458d1fac46": {
          "model_module": "@jupyter-widgets/controls",
          "model_name": "HTMLModel",
          "model_module_version": "1.5.0",
          "state": {
            "_dom_classes": [],
            "_model_module": "@jupyter-widgets/controls",
            "_model_module_version": "1.5.0",
            "_model_name": "HTMLModel",
            "_view_count": null,
            "_view_module": "@jupyter-widgets/controls",
            "_view_module_version": "1.5.0",
            "_view_name": "HTMLView",
            "description": "",
            "description_tooltip": null,
            "layout": "IPY_MODEL_da8fe5ca60eb446990b9e39f711967f5",
            "placeholder": "​",
            "style": "IPY_MODEL_ec0d77da288d41629e79a8312d8eb09c",
            "value": " 2/2 [01:09&lt;00:00, 32.88s/it]"
          }
        },
        "c1db64aa9dd24a30aee2eb5a47f46c25": {
          "model_module": "@jupyter-widgets/base",
          "model_name": "LayoutModel",
          "model_module_version": "1.2.0",
          "state": {
            "_model_module": "@jupyter-widgets/base",
            "_model_module_version": "1.2.0",
            "_model_name": "LayoutModel",
            "_view_count": null,
            "_view_module": "@jupyter-widgets/base",
            "_view_module_version": "1.2.0",
            "_view_name": "LayoutView",
            "align_content": null,
            "align_items": null,
            "align_self": null,
            "border": null,
            "bottom": null,
            "display": null,
            "flex": null,
            "flex_flow": null,
            "grid_area": null,
            "grid_auto_columns": null,
            "grid_auto_flow": null,
            "grid_auto_rows": null,
            "grid_column": null,
            "grid_gap": null,
            "grid_row": null,
            "grid_template_areas": null,
            "grid_template_columns": null,
            "grid_template_rows": null,
            "height": null,
            "justify_content": null,
            "justify_items": null,
            "left": null,
            "margin": null,
            "max_height": null,
            "max_width": null,
            "min_height": null,
            "min_width": null,
            "object_fit": null,
            "object_position": null,
            "order": null,
            "overflow": null,
            "overflow_x": null,
            "overflow_y": null,
            "padding": null,
            "right": null,
            "top": null,
            "visibility": null,
            "width": null
          }
        },
        "765a4823f0b347bfa94c0e2fac255410": {
          "model_module": "@jupyter-widgets/base",
          "model_name": "LayoutModel",
          "model_module_version": "1.2.0",
          "state": {
            "_model_module": "@jupyter-widgets/base",
            "_model_module_version": "1.2.0",
            "_model_name": "LayoutModel",
            "_view_count": null,
            "_view_module": "@jupyter-widgets/base",
            "_view_module_version": "1.2.0",
            "_view_name": "LayoutView",
            "align_content": null,
            "align_items": null,
            "align_self": null,
            "border": null,
            "bottom": null,
            "display": null,
            "flex": null,
            "flex_flow": null,
            "grid_area": null,
            "grid_auto_columns": null,
            "grid_auto_flow": null,
            "grid_auto_rows": null,
            "grid_column": null,
            "grid_gap": null,
            "grid_row": null,
            "grid_template_areas": null,
            "grid_template_columns": null,
            "grid_template_rows": null,
            "height": null,
            "justify_content": null,
            "justify_items": null,
            "left": null,
            "margin": null,
            "max_height": null,
            "max_width": null,
            "min_height": null,
            "min_width": null,
            "object_fit": null,
            "object_position": null,
            "order": null,
            "overflow": null,
            "overflow_x": null,
            "overflow_y": null,
            "padding": null,
            "right": null,
            "top": null,
            "visibility": null,
            "width": null
          }
        },
        "2ab2b0b64298430b9c948ddf0c8836cc": {
          "model_module": "@jupyter-widgets/controls",
          "model_name": "DescriptionStyleModel",
          "model_module_version": "1.5.0",
          "state": {
            "_model_module": "@jupyter-widgets/controls",
            "_model_module_version": "1.5.0",
            "_model_name": "DescriptionStyleModel",
            "_view_count": null,
            "_view_module": "@jupyter-widgets/base",
            "_view_module_version": "1.2.0",
            "_view_name": "StyleView",
            "description_width": ""
          }
        },
        "155044e7384e4886bb79819cd47bcabc": {
          "model_module": "@jupyter-widgets/base",
          "model_name": "LayoutModel",
          "model_module_version": "1.2.0",
          "state": {
            "_model_module": "@jupyter-widgets/base",
            "_model_module_version": "1.2.0",
            "_model_name": "LayoutModel",
            "_view_count": null,
            "_view_module": "@jupyter-widgets/base",
            "_view_module_version": "1.2.0",
            "_view_name": "LayoutView",
            "align_content": null,
            "align_items": null,
            "align_self": null,
            "border": null,
            "bottom": null,
            "display": null,
            "flex": null,
            "flex_flow": null,
            "grid_area": null,
            "grid_auto_columns": null,
            "grid_auto_flow": null,
            "grid_auto_rows": null,
            "grid_column": null,
            "grid_gap": null,
            "grid_row": null,
            "grid_template_areas": null,
            "grid_template_columns": null,
            "grid_template_rows": null,
            "height": null,
            "justify_content": null,
            "justify_items": null,
            "left": null,
            "margin": null,
            "max_height": null,
            "max_width": null,
            "min_height": null,
            "min_width": null,
            "object_fit": null,
            "object_position": null,
            "order": null,
            "overflow": null,
            "overflow_x": null,
            "overflow_y": null,
            "padding": null,
            "right": null,
            "top": null,
            "visibility": null,
            "width": null
          }
        },
        "5f03f88993ee4f54b0bb2f088e6d1fda": {
          "model_module": "@jupyter-widgets/controls",
          "model_name": "ProgressStyleModel",
          "model_module_version": "1.5.0",
          "state": {
            "_model_module": "@jupyter-widgets/controls",
            "_model_module_version": "1.5.0",
            "_model_name": "ProgressStyleModel",
            "_view_count": null,
            "_view_module": "@jupyter-widgets/base",
            "_view_module_version": "1.2.0",
            "_view_name": "StyleView",
            "bar_color": null,
            "description_width": ""
          }
        },
        "da8fe5ca60eb446990b9e39f711967f5": {
          "model_module": "@jupyter-widgets/base",
          "model_name": "LayoutModel",
          "model_module_version": "1.2.0",
          "state": {
            "_model_module": "@jupyter-widgets/base",
            "_model_module_version": "1.2.0",
            "_model_name": "LayoutModel",
            "_view_count": null,
            "_view_module": "@jupyter-widgets/base",
            "_view_module_version": "1.2.0",
            "_view_name": "LayoutView",
            "align_content": null,
            "align_items": null,
            "align_self": null,
            "border": null,
            "bottom": null,
            "display": null,
            "flex": null,
            "flex_flow": null,
            "grid_area": null,
            "grid_auto_columns": null,
            "grid_auto_flow": null,
            "grid_auto_rows": null,
            "grid_column": null,
            "grid_gap": null,
            "grid_row": null,
            "grid_template_areas": null,
            "grid_template_columns": null,
            "grid_template_rows": null,
            "height": null,
            "justify_content": null,
            "justify_items": null,
            "left": null,
            "margin": null,
            "max_height": null,
            "max_width": null,
            "min_height": null,
            "min_width": null,
            "object_fit": null,
            "object_position": null,
            "order": null,
            "overflow": null,
            "overflow_x": null,
            "overflow_y": null,
            "padding": null,
            "right": null,
            "top": null,
            "visibility": null,
            "width": null
          }
        },
        "ec0d77da288d41629e79a8312d8eb09c": {
          "model_module": "@jupyter-widgets/controls",
          "model_name": "DescriptionStyleModel",
          "model_module_version": "1.5.0",
          "state": {
            "_model_module": "@jupyter-widgets/controls",
            "_model_module_version": "1.5.0",
            "_model_name": "DescriptionStyleModel",
            "_view_count": null,
            "_view_module": "@jupyter-widgets/base",
            "_view_module_version": "1.2.0",
            "_view_name": "StyleView",
            "description_width": ""
          }
        }
      }
    }
  },
  "cells": [
    {
      "cell_type": "markdown",
      "source": [
        "Section 1: 라이브러리 설치 및 불러오기"
      ],
      "metadata": {
        "id": "0x1K6yKViV_-"
      }
    },
    {
      "cell_type": "code",
      "source": [
        "# Hugging Face 모델용 필수 라이브러리 설치\n",
        "!pip install -q transformers accelerate\n",
        "\n",
        "# 기본 라이브러리 import\n",
        "import os\n",
        "import numpy as np\n",
        "import torch\n",
        "from PIL import Image\n",
        "from tqdm import tqdm\n",
        "import transformers\n",
        "import warnings\n",
        "\n",
        "# HuggingFace 모델 import\n",
        "from transformers import (\n",
        "    Blip2Processor, Blip2ForConditionalGeneration,\n",
        "    CLIPTokenizer, CLIPTextModel\n",
        ")\n"
      ],
      "metadata": {
        "id": "1FSFP79uoL0O"
      },
      "execution_count": null,
      "outputs": []
    },
    {
      "cell_type": "code",
      "source": [
        "# tqdm 진행률 바 깨지지 않도록 설정\n",
        "transformers.logging.set_verbosity_error()  # transformers 내부 경고 숨김\n",
        "warnings.filterwarnings(\"ignore\")           # 일반 파이썬 경고도 숨김\n"
      ],
      "metadata": {
        "id": "k24lXSvyoRP8"
      },
      "execution_count": null,
      "outputs": []
    },
    {
      "cell_type": "markdown",
      "source": [
        "Section 2: 경로 및 프롬프트 정의"
      ],
      "metadata": {
        "id": "kaxb5v5Yiol6"
      }
    },
    {
      "cell_type": "code",
      "source": [
        "# 학습 이미지 디렉토리 (class 1~7 폴더 구조)\n",
        "train_dir = \"/content/drive/MyDrive/VLM/train_half\"\n",
        "\n",
        "# BLIP2에 넣을 프롬프트\n",
        "prompt = \"Question: What emotion is the person showing in the image? Answer:\"\n"
      ],
      "metadata": {
        "id": "GOg3AlQCoU8E"
      },
      "execution_count": null,
      "outputs": []
    },
    {
      "cell_type": "markdown",
      "source": [
        "Section 3: 모델 로딩 (BLIP2 + CLIP)"
      ],
      "metadata": {
        "id": "fjNYoHZnitc9"
      }
    },
    {
      "cell_type": "code",
      "source": [
        "# BLIP2 모델: 이미지 → 감정 설명 문장 생성\n",
        "processor = Blip2Processor.from_pretrained(\"Salesforce/blip2-flan-t5-xl\")\n",
        "blip_model = Blip2ForConditionalGeneration.from_pretrained(\n",
        "    \"Salesforce/blip2-flan-t5-xl\",\n",
        "    device_map=\"auto\",  # 자동으로 GPU 할당\n",
        "    torch_dtype=torch.float16\n",
        ").eval()\n",
        "\n",
        "# CLIP 텍스트 인코더: 문장 → 벡터\n",
        "clip_tokenizer = CLIPTokenizer.from_pretrained(\"openai/clip-vit-large-patch14\")\n",
        "clip_text_model = CLIPTextModel.from_pretrained(\"openai/clip-vit-large-patch14\").to(\"cuda\").eval()\n"
      ],
      "metadata": {
        "colab": {
          "base_uri": "https://localhost:8080/",
          "height": 67,
          "referenced_widgets": [
            "e2659db97aa747448381248dc1ec9262",
            "5ef197e9d0084d7d8474a6af78918770",
            "7f95d81fb79b41dd96a06a00ac3d4012",
            "5e37f74d271f46279dabcf458d1fac46",
            "c1db64aa9dd24a30aee2eb5a47f46c25",
            "765a4823f0b347bfa94c0e2fac255410",
            "2ab2b0b64298430b9c948ddf0c8836cc",
            "155044e7384e4886bb79819cd47bcabc",
            "5f03f88993ee4f54b0bb2f088e6d1fda",
            "da8fe5ca60eb446990b9e39f711967f5",
            "ec0d77da288d41629e79a8312d8eb09c"
          ]
        },
        "id": "mckwQySRoaNX",
        "outputId": "42f54a23-bad4-4f09-f142-5943d61a21fc"
      },
      "execution_count": null,
      "outputs": [
        {
          "output_type": "display_data",
          "data": {
            "text/plain": [
              "Loading checkpoint shards:   0%|          | 0/2 [00:00<?, ?it/s]"
            ],
            "application/vnd.jupyter.widget-view+json": {
              "version_major": 2,
              "version_minor": 0,
              "model_id": "e2659db97aa747448381248dc1ec9262"
            }
          },
          "metadata": {}
        },
        {
          "output_type": "stream",
          "name": "stderr",
          "text": [
            "WARNING:accelerate.big_modeling:Some parameters are on the meta device because they were offloaded to the cpu.\n"
          ]
        }
      ]
    },
    {
      "cell_type": "markdown",
      "source": [
        "Section 4: BLIP2 → 감정 설명 문장 생성 + CLIP → 텍스트 feature 추출"
      ],
      "metadata": {
        "id": "dFJJ9Zi2i6-9"
      }
    },
    {
      "cell_type": "code",
      "source": [
        "# 결과 저장 리스트\n",
        "clip_text_features = []\n",
        "img_names = []\n",
        "\n",
        "# Class 1~7 순회\n",
        "for emotion in range(1, 8):\n",
        "    folder = os.path.join(train_dir, str(emotion))\n",
        "    image_files = [f for f in os.listdir(folder) if f.endswith((\".jpg\", \".png\"))]\n",
        "\n",
        "    for i, f in enumerate(tqdm(image_files, desc=f\"Class {emotion}\")):\n",
        "        path = os.path.join(folder, f)\n",
        "\n",
        "        try:\n",
        "            # 이미지 열기 및 전처리\n",
        "            with Image.open(path) as img:\n",
        "                img = img.convert(\"RGB\").resize((224, 224))\n",
        "\n",
        "                # BLIP2로 문장 생성\n",
        "                blip_inputs = processor(images=img, text=prompt, return_tensors=\"pt\").to(\"cuda\", torch.float16)\n",
        "                with torch.no_grad():\n",
        "                    generated_ids = blip_model.generate(\n",
        "                        **blip_inputs,\n",
        "                        max_new_tokens=30  # 불필요한 파라미터 제거\n",
        "                    )\n",
        "                    text = processor.batch_decode(generated_ids, skip_special_tokens=True)[0].strip()\n",
        "\n",
        "                # CLIP으로 문장 인코딩 (텍스트 feature 추출)\n",
        "                clip_inputs = clip_tokenizer([text], return_tensors=\"pt\").to(\"cuda\")\n",
        "                with torch.no_grad():\n",
        "                    text_feature = clip_text_model(**clip_inputs).pooler_output  # (1, D)\n",
        "\n",
        "                # feature와 이미지 이름 저장\n",
        "                clip_text_features.append(text_feature.squeeze().cpu().numpy())\n",
        "                img_names.append(f)\n",
        "\n",
        "        except Exception as e:\n",
        "            tqdm.write(f\"에러: {path} → {e}\")\n"
      ],
      "metadata": {
        "colab": {
          "base_uri": "https://localhost:8080/"
        },
        "id": "Pn5eUAY7ofds",
        "outputId": "62082113-62a2-48a5-ff28-59d783771e2c"
      },
      "execution_count": null,
      "outputs": [
        {
          "output_type": "stream",
          "name": "stderr",
          "text": [
            "Class 1: 100%|██████████| 516/516 [23:58<00:00,  2.79s/it]\n",
            "Class 2: 100%|██████████| 112/112 [05:05<00:00,  2.73s/it]\n",
            "Class 3: 100%|██████████| 287/287 [12:57<00:00,  2.71s/it]\n",
            "Class 4: 100%|██████████| 1908/1908 [1:13:33<00:00,  2.31s/it]\n",
            "Class 5: 100%|██████████| 792/792 [35:56<00:00,  2.72s/it]\n",
            "Class 6: 100%|██████████| 282/282 [12:11<00:00,  2.59s/it]\n",
            "Class 7: 100%|██████████| 1009/1009 [45:42<00:00,  2.72s/it]\n"
          ]
        }
      ]
    },
    {
      "cell_type": "markdown",
      "source": [
        "Section 5: npy, csv 결과 저장"
      ],
      "metadata": {
        "id": "lG5WxjEGppn-"
      }
    },
    {
      "cell_type": "code",
      "source": [
        "import numpy as np\n",
        "import pandas as pd\n",
        "\n",
        "# 저장 경로 설정\n",
        "save_dir = \"/content/drive/MyDrive/VLM\"\n",
        "os.makedirs(save_dir, exist_ok=True)\n",
        "\n",
        "#image_name + feature dict로 묶기\n",
        "merged_data = [\n",
        "    {\"image_name\": name, \"clip_feature\": feat}\n",
        "    for name, feat in zip(img_names, clip_text_features)\n",
        "]\n",
        "\n",
        "#NPY 저장 (하나의 파일로)\n",
        "npy_path = os.path.join(save_dir, \"train_CLIP_feature.npy\")\n",
        "np.save(npy_path, merged_data)\n",
        "\n",
        "#CSV 저장 (string 형태로 변환)\n",
        "csv_path = os.path.join(save_dir, \"train_CLIP_feature.csv\")\n",
        "df = pd.DataFrame({\n",
        "    \"image_name\": [item[\"image_name\"] for item in merged_data],\n",
        "    \"clip_feature\": [\",\".join(map(str, item[\"clip_feature\"])) for item in merged_data]\n",
        "})\n",
        "df.to_csv(csv_path, index=False)\n",
        "\n",
        "print(f\"저장 완료: \\n- NPY: {npy_path}\\n- CSV: {csv_path}\")\n"
      ],
      "metadata": {
        "colab": {
          "base_uri": "https://localhost:8080/"
        },
        "id": "qMc41oIHppL6",
        "outputId": "ab1839ab-a9e8-4750-c737-17db1a142444"
      },
      "execution_count": null,
      "outputs": [
        {
          "output_type": "stream",
          "name": "stdout",
          "text": [
            "저장 완료: \n",
            "- NPY: /content/drive/MyDrive/VLM/train_CLIP_feature.npy\n",
            "- CSV: /content/drive/MyDrive/VLM/train_CLIP_feature.csv\n"
          ]
        }
      ]
    },
    {
      "cell_type": "code",
      "source": [
        "loaded = np.load(\"/content/drive/MyDrive/VLM/train_CLIP_feature.npy\", allow_pickle=True)\n",
        "print(loaded[0][\"image_name\"])        # 예: 'train_00123.jpg'\n",
        "print(loaded[0][\"clip_feature\"][:5])  # 예: [-0.23, 0.87, -1.02, ...]\n"
      ],
      "metadata": {
        "colab": {
          "base_uri": "https://localhost:8080/"
        },
        "id": "p2YQHcjEsx6a",
        "outputId": "283e3ecb-0a13-4fc7-831f-4a149ba6e29b"
      },
      "execution_count": null,
      "outputs": [
        {
          "output_type": "stream",
          "name": "stdout",
          "text": [
            "train_07148_aligned.jpg\n",
            "[-1.5942181  -0.6751456   1.4848552  -0.00326018 -0.83672017]\n"
          ]
        }
      ]
    },
    {
      "cell_type": "code",
      "source": [
        "import pandas as pd\n",
        "\n",
        "# CSV 불러오기\n",
        "df = pd.read_csv(\"/content/drive/MyDrive/VLM/train_CLIP_feature.csv\")\n",
        "\n",
        "# 첫 번째 clip_feature 문자열 → 리스트로 변환\n",
        "first_feat = df[\"clip_feature\"].iloc[0]\n",
        "feat_vector = list(map(float, first_feat.split(\",\")))\n",
        "\n",
        "# 길이 확인\n",
        "print(f\"feature vector 차원 수: {len(feat_vector)}\")\n"
      ],
      "metadata": {
        "colab": {
          "base_uri": "https://localhost:8080/"
        },
        "id": "KG-Vgu-CbalC",
        "outputId": "7fef62c3-67ac-4d8c-c425-a81b9ee6aa82"
      },
      "execution_count": null,
      "outputs": [
        {
          "output_type": "stream",
          "name": "stdout",
          "text": [
            "feature vector 차원 수: 768\n"
          ]
        }
      ]
    }
  ]
}
